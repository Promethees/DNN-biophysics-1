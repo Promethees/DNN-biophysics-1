{
 "cells": [
  {
   "cell_type": "code",
   "execution_count": null,
   "id": "ad3c1cc3",
   "metadata": {},
   "outputs": [],
   "source": [
    "import lime.lime_tabular\n",
    "import shap\n",
    "import pandas as pd\n",
    "import numpy as np\n",
    "from model import predict_p_B\n",
    "from utils import load_data, preprocess_data\n",
    "from tensorflow.keras.models import load_model"
   ]
  },
  {
   "cell_type": "code",
   "execution_count": null,
   "id": "f3948341",
   "metadata": {},
   "outputs": [],
   "source": [
    "# Load data and model\n",
    "X, y = load_data('../data/vacuum_data.csv')  # Or water_data.csv\n",
    "X_scaled, scaler = preprocess_data(X)\n",
    "model = load_model('../results/models/final_model.h5')"
   ]
  },
  {
   "cell_type": "code",
   "execution_count": null,
   "id": "a7382513",
   "metadata": {},
   "outputs": [],
   "source": [
    "# LIME\n",
    "explainer = lime.lime_tabular.LimeTabularExplainer(\n",
    "    X_scaled,\n",
    "    feature_names=[f'CV_{i}' for i in range(90)],\n",
    "    mode='regression'\n",
    ")"
   ]
  },
  {
   "cell_type": "code",
   "execution_count": null,
   "id": "48fa7a09",
   "metadata": {},
   "outputs": [],
   "source": [
    "# Example: Explain a single instance\n",
    "instance = X_scaled[0]\n",
    "exp = explainer.explain_instance(instance, lambda x: predict_p_B(model, x), num_features=10)\n",
    "exp.save_to_file('../results/plots/lime_explanation.html')"
   ]
  },
  {
   "cell_type": "code",
   "execution_count": null,
   "id": "053775fd",
   "metadata": {},
   "outputs": [],
   "source": [
    "# SHAP\n",
    "explainer = shap.DeepExplainer(model, X_scaled[:100])  # Use a subset for background\n",
    "shap_values = explainer.shap_values(X_scaled[:100])\n",
    "shap.summary_plot(shap_values, X_scaled[:100], feature_names=[f'CV_{i}' for i in range(90)],\n",
    "                  show=False)\n",
    "import matplotlib.pyplot as plt\n",
    "plt.savefig('../results/plots/shap_summary.png')"
   ]
  }
 ],
 "metadata": {
  "kernelspec": {
   "display_name": "biophysics-DNN",
   "language": "python",
   "name": "biophysics-dnn"
  },
  "language_info": {
   "codemirror_mode": {
    "name": "ipython",
    "version": 3
   },
   "file_extension": ".py",
   "mimetype": "text/x-python",
   "name": "python",
   "nbconvert_exporter": "python",
   "pygments_lexer": "ipython3",
   "version": "3.9.21"
  }
 },
 "nbformat": 4,
 "nbformat_minor": 5
}
