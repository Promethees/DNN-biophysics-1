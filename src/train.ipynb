{
 "cells": [
  {
   "cell_type": "code",
   "execution_count": null,
   "id": "e00ed3eb",
   "metadata": {},
   "outputs": [],
   "source": [
    "import tensorflow as tf\n",
    "from model import build_model, predict_p_B\n",
    "from utils import load_data, preprocess_data\n",
    "import numpy as np\n",
    "from sklearn.metrics import mean_squared_error"
   ]
  },
  {
   "cell_type": "code",
   "execution_count": null,
   "id": "86a0e66c",
   "metadata": {},
   "outputs": [],
   "source": [
    "# Load best hyperparameters\n",
    "best_hps = {}\n",
    "with open('../results/hyperparameters/best_hps.txt', 'r') as f:\n",
    "    lines = f.readlines()\n",
    "    best_hps['n_layers'] = int(lines[0].split(': ')[1])\n",
    "    for i in range(best_hps['n_layers']):\n",
    "        best_hps[f'n_nodes_{i}'] = int(lines[2*i+1].split(': ')[1])\n",
    "        best_hps[f'l2_lambda_{i}'] = float(lines[2*i+2].split(': ')[1])"
   ]
  },
  {
   "cell_type": "code",
   "execution_count": null,
   "id": "71a6820d",
   "metadata": {},
   "outputs": [],
   "source": [
    "# Load and preprocess data\n",
    "X, y = load_data('../data/vacuum_data.csv')  # Or water_data.csv\n",
    "X_scaled, scaler = preprocess_data(X)"
   ]
  },
  {
   "cell_type": "code",
   "execution_count": null,
   "id": "9b2375f8",
   "metadata": {},
   "outputs": [],
   "source": [
    "# Split data (50% train, 10% val, 40% test)\n",
    "n = len(X)\n",
    "n_train = int(n * 0.5)\n",
    "n_val = int(n * 0.1)\n",
    "indices = np.random.permutation(n)\n",
    "train_idx, val_idx, test_idx = indices[:n_train], indices[n_train:n_train+n_val], indices[n_train+n_val:]\n",
    "X_train, y_train = X_scaled[train_idx], y[train_idx]\n",
    "X_val, y_val = X_scaled[val_idx], y[val_idx]\n",
    "X_test, y_test = X_scaled[test_idx], y[test_idx]"
   ]
  },
  {
   "cell_type": "code",
   "execution_count": null,
   "id": "2464c776",
   "metadata": {},
   "outputs": [],
   "source": [
    "# Build and train model\n",
    "model = build_model(best_hps['n_layers'],\n",
    "                    [best_hps[f'n_nodes_{i}'] for i in range(best_hps['n_layers'])],\n",
    "                    [best_hps[f'l2_lambda_{i}'] for i in range(best_hps['n_layers'])])\n",
    "stop_early = tf.keras.callbacks.EarlyStopping(monitor='val_loss', patience=5)\n",
    "model.fit(X_train, y_train, epochs=1000, validation_data=(X_val, y_val), callbacks=[stop_early])"
   ]
  },
  {
   "cell_type": "code",
   "execution_count": null,
   "id": "a40af72b",
   "metadata": {},
   "outputs": [],
   "source": [
    "# Evaluate and save model\n",
    "y_pred = predict_p_B(model, X_test)\n",
    "rmse = np.sqrt(mean_squared_error(y_test, y_pred))\n",
    "print(f\"Test RMSE: {rmse}\")\n",
    "model.save('../results/models/final_model.h5')"
   ]
  }
 ],
 "metadata": {
  "kernelspec": {
   "display_name": "biophysics-DNN",
   "language": "python",
   "name": "biophysics-dnn"
  },
  "language_info": {
   "codemirror_mode": {
    "name": "ipython",
    "version": 3
   },
   "file_extension": ".py",
   "mimetype": "text/x-python",
   "name": "python",
   "nbconvert_exporter": "python",
   "pygments_lexer": "ipython3",
   "version": "3.9.21"
  }
 },
 "nbformat": 4,
 "nbformat_minor": 5
}
