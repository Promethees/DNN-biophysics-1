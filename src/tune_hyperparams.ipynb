{
 "cells": [
  {
   "cell_type": "code",
   "execution_count": 1,
   "id": "0611e8ae",
   "metadata": {},
   "outputs": [
    {
     "name": "stderr",
     "output_type": "stream",
     "text": [
      "2025-05-16 10:17:13.745336: I tensorflow/core/platform/cpu_feature_guard.cc:210] This TensorFlow binary is optimized to use available CPU instructions in performance-critical operations.\n",
      "To enable the following instructions: AVX2 FMA, in other operations, rebuild TensorFlow with the appropriate compiler flags.\n"
     ]
    }
   ],
   "source": [
    "import keras_tuner as kt\n",
    "import tensorflow as tf\n",
    "from model import build_model\n",
    "from utils import load_data, preprocess_data, split_data\n",
    "import numpy as np\n",
    "\n",
    "def model_builder(hp):\n",
    "    n_layers = hp.Int('n_layers', 2, 5)\n",
    "    n_nodes = [hp.Int(f'n_nodes_{i}', 100, 5000, step=100) for i in range(n_layers)]\n",
    "    l2_lambda = [hp.Float(f'l2_lambda_{i}', 0.0001, 0.1, sampling='log') for i in range(n_layers)]\n",
    "    model = build_model(n_layers, n_nodes, l2_lambda)\n",
    "    return model"
   ]
  },
  {
   "cell_type": "code",
   "execution_count": 2,
   "id": "ebf5f231",
   "metadata": {},
   "outputs": [],
   "source": [
    "# Load and preprocess data\n",
    "X, y = load_data('../data/vacuum_data.csv')  # Or water_data.csv\n",
    "X_scaled, scaler = preprocess_data(X)\n",
    "X_train, y_train, X_val, y_val = split_data(X_scaled, y)"
   ]
  },
  {
   "cell_type": "code",
   "execution_count": 3,
   "id": "1f256fef",
   "metadata": {},
   "outputs": [
    {
     "name": "stderr",
     "output_type": "stream",
     "text": [
      "/Users/tqmthong/anaconda3/envs/biophysics-DNN/lib/python3.9/site-packages/keras/src/layers/core/dense.py:87: UserWarning: Do not pass an `input_shape`/`input_dim` argument to a layer. When using Sequential models, prefer using an `Input(shape)` object as the first layer in the model instead.\n",
      "  super().__init__(activity_regularizer=activity_regularizer, **kwargs)\n"
     ]
    }
   ],
   "source": [
    "# Set up tuner\n",
    "tuner = kt.BayesianOptimization(\n",
    "    model_builder,\n",
    "    objective='val_loss',\n",
    "    max_trials=150,\n",
    "    directory='../results/hyperparameters',\n",
    "    project_name='alanine_dnn'\n",
    ")"
   ]
  },
  {
   "cell_type": "code",
   "execution_count": null,
   "id": "9a8f73c4",
   "metadata": {},
   "outputs": [
    {
     "name": "stdout",
     "output_type": "stream",
     "text": [
      "Trial 17 Complete [00h 15m 50s]\n",
      "val_loss: 0.6001011729240417\n",
      "\n",
      "Best val_loss So Far: 0.5977813005447388\n",
      "Total elapsed time: 05h 36m 01s\n",
      "\n",
      "Search: Running Trial #18\n",
      "\n",
      "Value             |Best Value So Far |Hyperparameter\n",
      "4                 |3                 |n_layers\n",
      "4900              |2800              |n_nodes_0\n",
      "4500              |4700              |n_nodes_1\n",
      "0.005177          |0.00020566        |l2_lambda_0\n",
      "0.072538          |0.00021128        |l2_lambda_1\n",
      "4300              |4000              |n_nodes_2\n",
      "4600              |4800              |n_nodes_3\n",
      "0.00011424        |0.0032808         |l2_lambda_2\n",
      "0.001157          |0.0088273         |l2_lambda_3\n",
      "4500              |800               |n_nodes_4\n",
      "0.00025024        |0.00013933        |l2_lambda_4\n",
      "\n",
      "Epoch 1/1000\n",
      "\u001b[1m250/250\u001b[0m \u001b[32m━━━━━━━━━━━━━━━━━━━━\u001b[0m\u001b[37m\u001b[0m \u001b[1m177s\u001b[0m 699ms/step - loss: 96.8852 - val_loss: 3.4265\n",
      "Epoch 2/1000\n",
      "\u001b[1m250/250\u001b[0m \u001b[32m━━━━━━━━━━━━━━━━━━━━\u001b[0m\u001b[37m\u001b[0m \u001b[1m176s\u001b[0m 701ms/step - loss: 2.5513 - val_loss: 0.9980\n",
      "Epoch 3/1000\n",
      "\u001b[1m250/250\u001b[0m \u001b[32m━━━━━━━━━━━━━━━━━━━━\u001b[0m\u001b[37m\u001b[0m \u001b[1m165s\u001b[0m 661ms/step - loss: 0.8273 - val_loss: 0.6294\n",
      "Epoch 4/1000\n",
      "\u001b[1m250/250\u001b[0m \u001b[32m━━━━━━━━━━━━━━━━━━━━\u001b[0m\u001b[37m\u001b[0m \u001b[1m167s\u001b[0m 666ms/step - loss: 0.6158 - val_loss: 0.6201\n",
      "Epoch 5/1000\n",
      "\u001b[1m250/250\u001b[0m \u001b[32m━━━━━━━━━━━━━━━━━━━━\u001b[0m\u001b[37m\u001b[0m \u001b[1m185s\u001b[0m 741ms/step - loss: 0.5977 - val_loss: 0.6083\n",
      "Epoch 6/1000\n",
      "\u001b[1m250/250\u001b[0m \u001b[32m━━━━━━━━━━━━━━━━━━━━\u001b[0m\u001b[37m\u001b[0m \u001b[1m172s\u001b[0m 689ms/step - loss: 0.5940 - val_loss: 0.6029\n",
      "Epoch 7/1000\n",
      "\u001b[1m250/250\u001b[0m \u001b[32m━━━━━━━━━━━━━━━━━━━━\u001b[0m\u001b[37m\u001b[0m \u001b[1m166s\u001b[0m 662ms/step - loss: 0.5925 - val_loss: 0.6066\n",
      "Epoch 8/1000\n",
      "\u001b[1m250/250\u001b[0m \u001b[32m━━━━━━━━━━━━━━━━━━━━\u001b[0m\u001b[37m\u001b[0m \u001b[1m165s\u001b[0m 660ms/step - loss: 0.5856 - val_loss: 0.6059\n",
      "Epoch 9/1000\n",
      "\u001b[1m250/250\u001b[0m \u001b[32m━━━━━━━━━━━━━━━━━━━━\u001b[0m\u001b[37m\u001b[0m \u001b[1m184s\u001b[0m 737ms/step - loss: 0.5883 - val_loss: 0.6056\n",
      "Epoch 10/1000\n",
      "\u001b[1m 96/250\u001b[0m \u001b[32m━━━━━━━\u001b[0m\u001b[37m━━━━━━━━━━━━━\u001b[0m \u001b[1m1:42\u001b[0m 668ms/step - loss: 0.5818"
     ]
    }
   ],
   "source": [
    "# Early stopping\n",
    "stop_early = tf.keras.callbacks.EarlyStopping(monitor='val_loss', patience=5)\n",
    "\n",
    "# Search for best hyperparameters\n",
    "tuner.search(X_train, y_train, epochs=1000, validation_data=(X_val, y_val), callbacks=[stop_early])\n",
    "\n",
    "# Save best hyperparameters\n",
    "best_hps = tuner.get_best_hyperparameters(num_trials=1)[0]"
   ]
  },
  {
   "cell_type": "code",
   "execution_count": null,
   "id": "791d5c28",
   "metadata": {},
   "outputs": [],
   "source": [
    "with open('../results/hyperparameters/best_hps.txt', 'w') as f:\n",
    "    f.write(f\"n_layers: {best_hps.get('n_layers')}\\n\")\n",
    "    for i in range(best_hps.get('n_layers')):\n",
    "        f.write(f\"n_nodes_{i}: {best_hps.get(f'n_nodes_{i}')}\\n\")\n",
    "        f.write(f\"l2_lambda_{i}: {best_hps.get(f'l2_lambda_{i}')}\\n\")"
   ]
  }
 ],
 "metadata": {
  "kernelspec": {
   "display_name": "biophysics-DNN",
   "language": "python",
   "name": "biophysics-dnn"
  },
  "language_info": {
   "codemirror_mode": {
    "name": "ipython",
    "version": 3
   },
   "file_extension": ".py",
   "mimetype": "text/x-python",
   "name": "python",
   "nbconvert_exporter": "python",
   "pygments_lexer": "ipython3",
   "version": "3.9.21"
  }
 },
 "nbformat": 4,
 "nbformat_minor": 5
}
